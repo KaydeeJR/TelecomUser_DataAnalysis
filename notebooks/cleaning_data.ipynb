{
 "cells": [
  {
   "cell_type": "code",
   "execution_count": 1,
   "metadata": {},
   "outputs": [
    {
     "name": "stderr",
     "output_type": "stream",
     "text": [
      "c:\\Users\\JaneRose\\anaconda3\\envs\\myenv\\lib\\site-packages\\scipy\\__init__.py:146: UserWarning: A NumPy version >=1.16.5 and <1.23.0 is required for this version of SciPy (detected version 1.23.1\n",
      "  warnings.warn(f\"A NumPy version >={np_minversion} and <{np_maxversion}\"\n"
     ]
    },
    {
     "data": {
      "text/plain": [
       "'1.1.1'"
      ]
     },
     "execution_count": 1,
     "metadata": {},
     "output_type": "execute_result"
    }
   ],
   "source": [
    "import pandas as pd\n",
    "import numpy as np\n",
    "from sklearn.feature_selection import SelectKBest\n",
    "from sklearn.feature_selection import chi2"
   ]
  },
  {
   "cell_type": "code",
   "execution_count": 52,
   "metadata": {},
   "outputs": [
    {
     "data": {
      "text/plain": [
       "(149010, 55)"
      ]
     },
     "execution_count": 52,
     "metadata": {},
     "output_type": "execute_result"
    }
   ],
   "source": [
    "dataframe = pd.read_csv(\"D:/10XAcademy/TelecomUser_DataAnalysis/data/Week1_challenge_data_source.csv\")\n",
    "dataframe.dropna(subset=[\"Bearer Id\"],inplace=True)\n",
    "dataframe.shape"
   ]
  },
  {
   "cell_type": "code",
   "execution_count": 57,
   "metadata": {},
   "outputs": [
    {
     "data": {
      "text/plain": [
       "(149010, 55)"
      ]
     },
     "execution_count": 57,
     "metadata": {},
     "output_type": "execute_result"
    }
   ],
   "source": [
    "col_list = list(dataframe.select_dtypes(exclude=['object']).columns)\n",
    "col_list.remove(\"Bearer Id\")\n",
    "upper_lim={}\n",
    "lower_lim={}\n",
    "for col in col_list:\n",
    "    q1 = np.percentile(dataframe[col],25,method='midpoint')\n",
    "    q3 = np.percentile(dataframe[col],75, method = 'midpoint')\n",
    "    IQR = q3 - q1\n",
    "    upper_lim = np.where(dataframe[col]>=(q3+1.5*IQR))\n",
    "    lower_lim = np.where(dataframe[col]<=(q1-1.5*IQR))\n",
    "dataframe.drop(upper_lim[0],inplace=True)\n",
    "dataframe.drop(lower_lim[0],inplace=True)\n",
    "dataframe.shape"
   ]
  },
  {
   "cell_type": "code",
   "execution_count": null,
   "metadata": {},
   "outputs": [],
   "source": []
  }
 ],
 "metadata": {
  "kernelspec": {
   "display_name": "Python 3.10.4 ('myenv')",
   "language": "python",
   "name": "python3"
  },
  "language_info": {
   "codemirror_mode": {
    "name": "ipython",
    "version": 3
   },
   "file_extension": ".py",
   "mimetype": "text/x-python",
   "name": "python",
   "nbconvert_exporter": "python",
   "pygments_lexer": "ipython3",
   "version": "3.10.4"
  },
  "orig_nbformat": 4,
  "vscode": {
   "interpreter": {
    "hash": "f61505df545e71d218b2a3d8a67aa63bf357ca6798109a5ea79f5fc3ecda9894"
   }
  }
 },
 "nbformat": 4,
 "nbformat_minor": 2
}
